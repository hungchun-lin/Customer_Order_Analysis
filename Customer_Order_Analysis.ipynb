{
 "cells": [
  {
   "cell_type": "code",
   "execution_count": 1,
   "id": "571ef640",
   "metadata": {},
   "outputs": [
    {
     "name": "stderr",
     "output_type": "stream",
     "text": [
      "<frozen importlib._bootstrap>:219: RuntimeWarning: scipy._lib.messagestream.MessageStream size changed, may indicate binary incompatibility. Expected 56 from C header, got 64 from PyObject\n"
     ]
    }
   ],
   "source": [
    "# Load required package.\n",
    "# Packages for data preprocessing and data visualization\n",
    "import numpy as np\n",
    "import pandas as pd\n",
    "import matplotlib.pyplot as plt\n",
    "import matplotlib.ticker as mtick\n",
    "import matplotlib.ticker as ticker\n",
    "import seaborn as sns\n",
    "import datetime as dt\n",
    "import dataframe_image as dfi\n",
    "\n",
    "# Ignore warnings to improve readibility.\n",
    "import warnings\n",
    "warnings.filterwarnings(\"ignore\")"
   ]
  },
  {
   "cell_type": "code",
   "execution_count": 2,
   "id": "ac9f21e8",
   "metadata": {},
   "outputs": [],
   "source": [
    "df = pd.read_csv(\"casestudy.csv\", index_col = 0)"
   ]
  },
  {
   "cell_type": "code",
   "execution_count": 3,
   "id": "82a1a676",
   "metadata": {},
   "outputs": [
    {
     "data": {
      "text/html": [
       "<div>\n",
       "<style scoped>\n",
       "    .dataframe tbody tr th:only-of-type {\n",
       "        vertical-align: middle;\n",
       "    }\n",
       "\n",
       "    .dataframe tbody tr th {\n",
       "        vertical-align: top;\n",
       "    }\n",
       "\n",
       "    .dataframe thead th {\n",
       "        text-align: right;\n",
       "    }\n",
       "</style>\n",
       "<table border=\"1\" class=\"dataframe\">\n",
       "  <thead>\n",
       "    <tr style=\"text-align: right;\">\n",
       "      <th></th>\n",
       "      <th>customer_email</th>\n",
       "      <th>net_revenue</th>\n",
       "      <th>year</th>\n",
       "    </tr>\n",
       "  </thead>\n",
       "  <tbody>\n",
       "    <tr>\n",
       "      <th>0</th>\n",
       "      <td>nhknapwsbx@gmail.com</td>\n",
       "      <td>249.92</td>\n",
       "      <td>2015</td>\n",
       "    </tr>\n",
       "    <tr>\n",
       "      <th>1</th>\n",
       "      <td>joiuzbvcpn@gmail.com</td>\n",
       "      <td>87.61</td>\n",
       "      <td>2015</td>\n",
       "    </tr>\n",
       "    <tr>\n",
       "      <th>2</th>\n",
       "      <td>ukkjctepxt@gmail.com</td>\n",
       "      <td>168.38</td>\n",
       "      <td>2015</td>\n",
       "    </tr>\n",
       "    <tr>\n",
       "      <th>3</th>\n",
       "      <td>gykatilzrt@gmail.com</td>\n",
       "      <td>62.40</td>\n",
       "      <td>2015</td>\n",
       "    </tr>\n",
       "    <tr>\n",
       "      <th>4</th>\n",
       "      <td>mmsgsrtxah@gmail.com</td>\n",
       "      <td>43.08</td>\n",
       "      <td>2015</td>\n",
       "    </tr>\n",
       "  </tbody>\n",
       "</table>\n",
       "</div>"
      ],
      "text/plain": [
       "          customer_email  net_revenue  year\n",
       "0   nhknapwsbx@gmail.com       249.92  2015\n",
       "1   joiuzbvcpn@gmail.com        87.61  2015\n",
       "2   ukkjctepxt@gmail.com       168.38  2015\n",
       "3   gykatilzrt@gmail.com        62.40  2015\n",
       "4   mmsgsrtxah@gmail.com        43.08  2015"
      ]
     },
     "execution_count": 3,
     "metadata": {},
     "output_type": "execute_result"
    }
   ],
   "source": [
    "df.head()"
   ]
  },
  {
   "cell_type": "code",
   "execution_count": 4,
   "id": "6ec57b81",
   "metadata": {},
   "outputs": [
    {
     "data": {
      "text/plain": [
       "(685927, 3)"
      ]
     },
     "execution_count": 4,
     "metadata": {},
     "output_type": "execute_result"
    }
   ],
   "source": [
    "df.shape"
   ]
  },
  {
   "cell_type": "markdown",
   "id": "3aad877f",
   "metadata": {},
   "source": [
    "### Total revenue for the current year"
   ]
  },
  {
   "cell_type": "code",
   "execution_count": 5,
   "id": "91b5230e",
   "metadata": {},
   "outputs": [
    {
     "data": {
      "text/html": [
       "<div>\n",
       "<style scoped>\n",
       "    .dataframe tbody tr th:only-of-type {\n",
       "        vertical-align: middle;\n",
       "    }\n",
       "\n",
       "    .dataframe tbody tr th {\n",
       "        vertical-align: top;\n",
       "    }\n",
       "\n",
       "    .dataframe thead th {\n",
       "        text-align: right;\n",
       "    }\n",
       "</style>\n",
       "<table border=\"1\" class=\"dataframe\">\n",
       "  <thead>\n",
       "    <tr style=\"text-align: right;\">\n",
       "      <th></th>\n",
       "      <th>year</th>\n",
       "      <th>net_revenue</th>\n",
       "    </tr>\n",
       "  </thead>\n",
       "  <tbody>\n",
       "    <tr>\n",
       "      <th>0</th>\n",
       "      <td>2015</td>\n",
       "      <td>29036749.19</td>\n",
       "    </tr>\n",
       "    <tr>\n",
       "      <th>1</th>\n",
       "      <td>2016</td>\n",
       "      <td>25730943.59</td>\n",
       "    </tr>\n",
       "    <tr>\n",
       "      <th>2</th>\n",
       "      <td>2017</td>\n",
       "      <td>31417495.03</td>\n",
       "    </tr>\n",
       "  </tbody>\n",
       "</table>\n",
       "</div>"
      ],
      "text/plain": [
       "   year  net_revenue\n",
       "0  2015  29036749.19\n",
       "1  2016  25730943.59\n",
       "2  2017  31417495.03"
      ]
     },
     "execution_count": 5,
     "metadata": {},
     "output_type": "execute_result"
    }
   ],
   "source": [
    "pd.DataFrame(df.groupby(['year'])['net_revenue'].sum()).reset_index()"
   ]
  },
  {
   "cell_type": "markdown",
   "id": "c075b664",
   "metadata": {},
   "source": [
    "### New Customer"
   ]
  },
  {
   "cell_type": "code",
   "execution_count": 6,
   "id": "19b341fa",
   "metadata": {},
   "outputs": [],
   "source": [
    "cus_list_2015 = set(df[df['year'] == 2015]['customer_email'])\n",
    "cus_list_2016 = set(df[df['year'] == 2016]['customer_email'])\n",
    "cus_list_2017 = set(df[df['year'] == 2017]['customer_email'])"
   ]
  },
  {
   "cell_type": "code",
   "execution_count": 7,
   "id": "6452fa3b",
   "metadata": {},
   "outputs": [],
   "source": [
    "new_cus_2016 = cus_list_2016 - cus_list_2015\n",
    "new_cus_2017 = cus_list_2017 - cus_list_2016"
   ]
  },
  {
   "cell_type": "markdown",
   "id": "0f4eaf7f",
   "metadata": {},
   "source": [
    "### New Customer Revenue e.g. new customers not present in previous year only"
   ]
  },
  {
   "cell_type": "code",
   "execution_count": 8,
   "id": "c5d9bfe2",
   "metadata": {},
   "outputs": [
    {
     "name": "stdout",
     "output_type": "stream",
     "text": [
      "New Customer Revenue for 2016: $18245491.01\n",
      "New Customer Revenue for 2017: $28776235.04\n"
     ]
    }
   ],
   "source": [
    "new_cus_2016_rev = df[(df['year'] == 2016) & (df['customer_email'].isin(list(new_cus_2016)))]['net_revenue'].sum()\n",
    "new_cus_2017_rev = df[(df['year'] == 2017) & (df['customer_email'].isin(list(new_cus_2017)))]['net_revenue'].sum()\n",
    "\n",
    "print(f'New Customer Revenue for 2016: ${new_cus_2016_rev}')\n",
    "print(f'New Customer Revenue for 2017: ${round(new_cus_2017_rev, 2)}')"
   ]
  },
  {
   "cell_type": "markdown",
   "id": "a159902d",
   "metadata": {},
   "source": [
    "### Existing Customer Growth. To calculate this, use the Revenue of existing customers for current year –(minus) Revenue of existing customers from the previous year"
   ]
  },
  {
   "cell_type": "code",
   "execution_count": 9,
   "id": "e8180199",
   "metadata": {},
   "outputs": [],
   "source": [
    "exis_cus_2016 = list(set(cus_list_2015) & set(cus_list_2016))\n",
    "exis_cus_2017 = list(set(cus_list_2016) & set(cus_list_2017))"
   ]
  },
  {
   "cell_type": "code",
   "execution_count": 10,
   "id": "6121edd6",
   "metadata": {},
   "outputs": [],
   "source": [
    "exis_cus_growth_2016 = (df[(df['year'] == 2016) & (df['customer_email'].isin(list(exis_cus_2016)))]['net_revenue'].sum()) \\\n",
    "                        - df[(df['year'] == 2015) & (df['customer_email'].isin(list(exis_cus_2016)))]['net_revenue'].sum()\n",
    "\n",
    "exis_cus_growth_2017 = (df[(df['year'] == 2017) & (df['customer_email'].isin(list(exis_cus_2017)))]['net_revenue'].sum()) \\\n",
    "                        - df[(df['year'] == 2016) & (df['customer_email'].isin(list(exis_cus_2017)))]['net_revenue'].sum()"
   ]
  },
  {
   "cell_type": "code",
   "execution_count": 11,
   "id": "c861d331",
   "metadata": {},
   "outputs": [
    {
     "name": "stdout",
     "output_type": "stream",
     "text": [
      "Existing Customer Growth for 2016: $20335.46\n",
      "Existing Customer Growth for 2017: $20611.34\n"
     ]
    }
   ],
   "source": [
    "print(f'Existing Customer Growth for 2016: ${round(exis_cus_growth_2016, 2)}')\n",
    "print(f'Existing Customer Growth for 2017: ${round(exis_cus_growth_2017, 2)}')"
   ]
  },
  {
   "cell_type": "markdown",
   "id": "4c604d7d",
   "metadata": {},
   "source": [
    "### Revenue lost from attrition"
   ]
  },
  {
   "cell_type": "code",
   "execution_count": 12,
   "id": "eb2a3069",
   "metadata": {},
   "outputs": [],
   "source": [
    "lost_cus_2016 = cus_list_2015 - cus_list_2016\n",
    "lost_cus_2017 = cus_list_2016 - cus_list_2017"
   ]
  },
  {
   "cell_type": "code",
   "execution_count": 13,
   "id": "1b90cafc",
   "metadata": {},
   "outputs": [],
   "source": [
    "lost_cus_2016_rev = df[(df['year'] == 2015) & (df['customer_email'].isin(list(lost_cus_2016)))]['net_revenue'].sum()\n",
    "lost_cus_2017_rev = df[(df['year'] == 2016) & (df['customer_email'].isin(list(lost_cus_2017)))]['net_revenue'].sum()"
   ]
  },
  {
   "cell_type": "code",
   "execution_count": 14,
   "id": "b1f8285e",
   "metadata": {},
   "outputs": [
    {
     "name": "stdout",
     "output_type": "stream",
     "text": [
      "Revenue lost for 2016: $21571632.07\n",
      "Revenue lost for 2017: $23110294.94\n"
     ]
    }
   ],
   "source": [
    "print(f'Revenue lost for 2016: ${round(lost_cus_2016_rev,2)}')\n",
    "print(f'Revenue lost for 2017: ${round(lost_cus_2017_rev,2)}')"
   ]
  },
  {
   "cell_type": "markdown",
   "id": "c06d09e4",
   "metadata": {},
   "source": [
    "### Existing Customer Revenue Current Year"
   ]
  },
  {
   "cell_type": "code",
   "execution_count": 15,
   "id": "b59b4c2e",
   "metadata": {},
   "outputs": [],
   "source": [
    "exis_cus_2016_rev = df[(df['year'] == 2016) & (df['customer_email'].isin(list(exis_cus_2016)))]['net_revenue'].sum()\n",
    "exis_cus_2017_rev = df[(df['year'] == 2017) & (df['customer_email'].isin(list(exis_cus_2017)))]['net_revenue'].sum()"
   ]
  },
  {
   "cell_type": "code",
   "execution_count": 16,
   "id": "beb0da33",
   "metadata": {},
   "outputs": [
    {
     "name": "stdout",
     "output_type": "stream",
     "text": [
      "Existing Customer Revenue for 2016 (from 2015): $7485452.58\n",
      "Existing Customer Revenue for 2017 (from 2016): $2641259.99\n"
     ]
    }
   ],
   "source": [
    "print(f'Existing Customer Revenue for 2016 (from 2015): ${round(exis_cus_2016_rev, 2)}')\n",
    "print(f'Existing Customer Revenue for 2017 (from 2016): ${round(exis_cus_2017_rev, 2)}')"
   ]
  },
  {
   "cell_type": "markdown",
   "id": "a2db3c73",
   "metadata": {},
   "source": [
    "### Existing Customer Revenue Prior Year"
   ]
  },
  {
   "cell_type": "code",
   "execution_count": 17,
   "id": "2ff0e8fb",
   "metadata": {},
   "outputs": [],
   "source": [
    "exis_cus_2016_2015srev = df[(df['year'] == 2015) & (df['customer_email'].isin(list(exis_cus_2016)))]['net_revenue'].sum()\n",
    "exis_cus_2017_2016srev = df[(df['year'] == 2016) & (df['customer_email'].isin(list(exis_cus_2017)))]['net_revenue'].sum()"
   ]
  },
  {
   "cell_type": "code",
   "execution_count": 18,
   "id": "9a0f411b",
   "metadata": {},
   "outputs": [
    {
     "name": "stdout",
     "output_type": "stream",
     "text": [
      "Existing Customer prior year's Revenue for 2016: $7465117.12\n",
      "Existing Customer prior year's Revenue for 2017: $2620648.65\n"
     ]
    }
   ],
   "source": [
    "print(f'Existing Customer prior year\\'s Revenue for 2016: ${exis_cus_2016_2015srev}')\n",
    "print(f'Existing Customer prior year\\'s Revenue for 2017: ${exis_cus_2017_2016srev}')"
   ]
  },
  {
   "cell_type": "markdown",
   "id": "74067afe",
   "metadata": {},
   "source": [
    "### Total Customers Current Year/ Total Customers Previous Year"
   ]
  },
  {
   "cell_type": "code",
   "execution_count": 19,
   "id": "a2656e05",
   "metadata": {},
   "outputs": [
    {
     "data": {
      "text/html": [
       "<div>\n",
       "<style scoped>\n",
       "    .dataframe tbody tr th:only-of-type {\n",
       "        vertical-align: middle;\n",
       "    }\n",
       "\n",
       "    .dataframe tbody tr th {\n",
       "        vertical-align: top;\n",
       "    }\n",
       "\n",
       "    .dataframe thead th {\n",
       "        text-align: right;\n",
       "    }\n",
       "</style>\n",
       "<table border=\"1\" class=\"dataframe\">\n",
       "  <thead>\n",
       "    <tr style=\"text-align: right;\">\n",
       "      <th></th>\n",
       "      <th>year</th>\n",
       "      <th>number of customers</th>\n",
       "    </tr>\n",
       "  </thead>\n",
       "  <tbody>\n",
       "    <tr>\n",
       "      <th>0</th>\n",
       "      <td>2015</td>\n",
       "      <td>231294</td>\n",
       "    </tr>\n",
       "    <tr>\n",
       "      <th>1</th>\n",
       "      <td>2016</td>\n",
       "      <td>204646</td>\n",
       "    </tr>\n",
       "    <tr>\n",
       "      <th>2</th>\n",
       "      <td>2017</td>\n",
       "      <td>249987</td>\n",
       "    </tr>\n",
       "  </tbody>\n",
       "</table>\n",
       "</div>"
      ],
      "text/plain": [
       "   year  number of customers\n",
       "0  2015               231294\n",
       "1  2016               204646\n",
       "2  2017               249987"
      ]
     },
     "execution_count": 19,
     "metadata": {},
     "output_type": "execute_result"
    }
   ],
   "source": [
    "pd.DataFrame(df.groupby(['year'])['customer_email'].count()).reset_index().rename(columns = {'customer_email': 'number of customers'})"
   ]
  },
  {
   "cell_type": "markdown",
   "id": "20f76da6",
   "metadata": {},
   "source": [
    "### New Customers"
   ]
  },
  {
   "cell_type": "code",
   "execution_count": 20,
   "id": "231b644b",
   "metadata": {},
   "outputs": [],
   "source": [
    "new_cus_2016 = cus_list_2016 - cus_list_2015\n",
    "new_cus_2017 = cus_list_2017 - cus_list_2016"
   ]
  },
  {
   "cell_type": "code",
   "execution_count": 21,
   "id": "1d41cedd",
   "metadata": {},
   "outputs": [
    {
     "name": "stdout",
     "output_type": "stream",
     "text": [
      "Number of new customers for 2016: 145062\n",
      "Number of new customers for 2017: 229028\n"
     ]
    }
   ],
   "source": [
    "print(f'Number of new customers for 2016: {len(new_cus_2016)}')\n",
    "print(f'Number of new customers for 2017: {len(new_cus_2017)}')"
   ]
  },
  {
   "cell_type": "markdown",
   "id": "96e2b585",
   "metadata": {},
   "source": [
    "### Lost Customers"
   ]
  },
  {
   "cell_type": "code",
   "execution_count": 22,
   "id": "1b7e4b26",
   "metadata": {},
   "outputs": [],
   "source": [
    "lost_cus_2016 = cus_list_2015 - cus_list_2016\n",
    "lost_cus_2017 = cus_list_2016 - cus_list_2017"
   ]
  },
  {
   "cell_type": "code",
   "execution_count": 23,
   "id": "47e6bc65",
   "metadata": {},
   "outputs": [
    {
     "name": "stdout",
     "output_type": "stream",
     "text": [
      "Number of lost customers for 2016: 171710\n",
      "Number of lost customers for 2017: 183687\n"
     ]
    }
   ],
   "source": [
    "print(f'Number of lost customers for 2016: {len(lost_cus_2016)}')\n",
    "print(f'Number of lost customers for 2017: {len(lost_cus_2017)}')"
   ]
  },
  {
   "cell_type": "code",
   "execution_count": 24,
   "id": "a3aef9b4",
   "metadata": {},
   "outputs": [],
   "source": [
    "return_cus_2017 = set(set(cus_list_2017) & set(cus_list_2015)) - set(cus_list_2016)"
   ]
  },
  {
   "cell_type": "code",
   "execution_count": 25,
   "id": "cec769bd",
   "metadata": {},
   "outputs": [
    {
     "data": {
      "text/plain": [
       "766"
      ]
     },
     "execution_count": 25,
     "metadata": {},
     "output_type": "execute_result"
    }
   ],
   "source": [
    "len(return_cus_2017)"
   ]
  },
  {
   "cell_type": "markdown",
   "id": "09fc3997",
   "metadata": {},
   "source": [
    "### Visulization"
   ]
  },
  {
   "cell_type": "code",
   "execution_count": 26,
   "id": "0026235b",
   "metadata": {},
   "outputs": [],
   "source": [
    "df_total_rev = pd.DataFrame(df.groupby(['year'])['net_revenue'].sum()).rename(columns = {\"net_revenue\": \"total_revenue\"})"
   ]
  },
  {
   "cell_type": "code",
   "execution_count": 27,
   "id": "31b3be37",
   "metadata": {},
   "outputs": [],
   "source": [
    "df_avg_rev = df.groupby(['year']).agg({'net_revenue': lambda x: x.sum()/x.count()}).rename(columns = {\"net_revenue\": \"avg_revenue\"})"
   ]
  },
  {
   "cell_type": "code",
   "execution_count": 28,
   "id": "d32c5d2e",
   "metadata": {},
   "outputs": [],
   "source": [
    "df_cus_count = pd.DataFrame(df.groupby(['year'])['customer_email'].count()).rename(columns = {'customer_email': 'customer_number'})"
   ]
  },
  {
   "cell_type": "code",
   "execution_count": 29,
   "id": "49d502c0",
   "metadata": {},
   "outputs": [],
   "source": [
    "def change_percentage(df, col):\n",
    "    df[f'change%'] = np.nan\n",
    "    for i in range(1, len(df)):\n",
    "        df[f'change%'].iloc[i] = ((df.iloc[i][col] - df.iloc[i-1][col]) / df.iloc[i-1][col]) * 100\n",
    "\n",
    "    df['type'] = col\n",
    "\n",
    "    return df\n",
    "\n",
    "\n",
    "df_total_rev = change_percentage(df_total_rev, 'total_revenue')\n",
    "df_avg_rev = change_percentage(df_avg_rev, 'avg_revenue')\n",
    "df_cus_count = change_percentage(df_cus_count, 'customer_number')\n",
    "    "
   ]
  },
  {
   "cell_type": "code",
   "execution_count": 30,
   "id": "ebcd663d",
   "metadata": {},
   "outputs": [
    {
     "data": {
      "text/html": [
       "<div>\n",
       "<style scoped>\n",
       "    .dataframe tbody tr th:only-of-type {\n",
       "        vertical-align: middle;\n",
       "    }\n",
       "\n",
       "    .dataframe tbody tr th {\n",
       "        vertical-align: top;\n",
       "    }\n",
       "\n",
       "    .dataframe thead th {\n",
       "        text-align: right;\n",
       "    }\n",
       "</style>\n",
       "<table border=\"1\" class=\"dataframe\">\n",
       "  <thead>\n",
       "    <tr style=\"text-align: right;\">\n",
       "      <th></th>\n",
       "      <th>total_revenue</th>\n",
       "      <th>change%</th>\n",
       "      <th>type</th>\n",
       "    </tr>\n",
       "    <tr>\n",
       "      <th>year</th>\n",
       "      <th></th>\n",
       "      <th></th>\n",
       "      <th></th>\n",
       "    </tr>\n",
       "  </thead>\n",
       "  <tbody>\n",
       "    <tr>\n",
       "      <th>2015</th>\n",
       "      <td>29036749.19</td>\n",
       "      <td>NaN</td>\n",
       "      <td>total_revenue</td>\n",
       "    </tr>\n",
       "    <tr>\n",
       "      <th>2016</th>\n",
       "      <td>25730943.59</td>\n",
       "      <td>-11.384903</td>\n",
       "      <td>total_revenue</td>\n",
       "    </tr>\n",
       "    <tr>\n",
       "      <th>2017</th>\n",
       "      <td>31417495.03</td>\n",
       "      <td>22.100050</td>\n",
       "      <td>total_revenue</td>\n",
       "    </tr>\n",
       "  </tbody>\n",
       "</table>\n",
       "</div>"
      ],
      "text/plain": [
       "      total_revenue    change%           type\n",
       "year                                         \n",
       "2015    29036749.19        NaN  total_revenue\n",
       "2016    25730943.59 -11.384903  total_revenue\n",
       "2017    31417495.03  22.100050  total_revenue"
      ]
     },
     "execution_count": 30,
     "metadata": {},
     "output_type": "execute_result"
    }
   ],
   "source": [
    "df_total_rev"
   ]
  },
  {
   "cell_type": "code",
   "execution_count": 31,
   "id": "5c718652",
   "metadata": {},
   "outputs": [
    {
     "data": {
      "text/html": [
       "<div>\n",
       "<style scoped>\n",
       "    .dataframe tbody tr th:only-of-type {\n",
       "        vertical-align: middle;\n",
       "    }\n",
       "\n",
       "    .dataframe tbody tr th {\n",
       "        vertical-align: top;\n",
       "    }\n",
       "\n",
       "    .dataframe thead th {\n",
       "        text-align: right;\n",
       "    }\n",
       "</style>\n",
       "<table border=\"1\" class=\"dataframe\">\n",
       "  <thead>\n",
       "    <tr style=\"text-align: right;\">\n",
       "      <th></th>\n",
       "      <th>customer_number</th>\n",
       "      <th>change%</th>\n",
       "      <th>type</th>\n",
       "    </tr>\n",
       "    <tr>\n",
       "      <th>year</th>\n",
       "      <th></th>\n",
       "      <th></th>\n",
       "      <th></th>\n",
       "    </tr>\n",
       "  </thead>\n",
       "  <tbody>\n",
       "    <tr>\n",
       "      <th>2015</th>\n",
       "      <td>231294</td>\n",
       "      <td>NaN</td>\n",
       "      <td>customer_number</td>\n",
       "    </tr>\n",
       "    <tr>\n",
       "      <th>2016</th>\n",
       "      <td>204646</td>\n",
       "      <td>-11.521267</td>\n",
       "      <td>customer_number</td>\n",
       "    </tr>\n",
       "    <tr>\n",
       "      <th>2017</th>\n",
       "      <td>249987</td>\n",
       "      <td>22.155820</td>\n",
       "      <td>customer_number</td>\n",
       "    </tr>\n",
       "  </tbody>\n",
       "</table>\n",
       "</div>"
      ],
      "text/plain": [
       "      customer_number    change%             type\n",
       "year                                             \n",
       "2015           231294        NaN  customer_number\n",
       "2016           204646 -11.521267  customer_number\n",
       "2017           249987  22.155820  customer_number"
      ]
     },
     "execution_count": 31,
     "metadata": {},
     "output_type": "execute_result"
    }
   ],
   "source": [
    "df_cus_count"
   ]
  },
  {
   "cell_type": "code",
   "execution_count": 32,
   "id": "a0e62335",
   "metadata": {},
   "outputs": [
    {
     "data": {
      "image/png": "[encoded data removed]",
      "text/plain": [
       "<Figure size 432x288 with 1 Axes>"
      ]
     },
     "metadata": {
      "needs_background": "light"
     },
     "output_type": "display_data"
    }
   ],
   "source": [
    "ax = sns.barplot(data=df_avg_rev.reset_index(), x='year', y='avg_revenue', palette= ['#8ab', '#69b', '#479'])"
   ]
  },
  {
   "cell_type": "code",
   "execution_count": 33,
   "id": "3a588341",
   "metadata": {},
   "outputs": [
    {
     "data": {
      "image/png": "[encoded data removed]",
      "text/plain": [
       "<Figure size 576x360 with 1 Axes>"
      ]
     },
     "metadata": {
      "needs_background": "light"
     },
     "output_type": "display_data"
    }
   ],
   "source": [
    "plt.figure(figsize=(8, 5))\n",
    "foo = pd.concat([df_total_rev, df_cus_count], axis=0).reset_index()\n",
    "ax = sns.barplot(data=foo, x='year', y='change%', hue='type', palette= ['#5588aa', '#aa5555'])\n",
    "\n",
    "plt.grid(False)\n",
    "ynew = 0\n",
    "ax.axhline(ynew, color='000000')\n",
    "plt.legend(bbox_to_anchor=(1, 1), loc='upper left', ncol=1)\n",
    "plt.tight_layout()\n",
    "plt.show()"
   ]
  },
  {
   "cell_type": "code",
   "execution_count": 34,
   "id": "ac082dab",
   "metadata": {},
   "outputs": [],
   "source": [
    "#revenue contribution by customer type (new or exist)\n",
    "def check_new_customer(x):\n",
    "    cust_list = {\n",
    "        'new': {2015: [], 2016: new_cus_2016, 2017: new_cus_2017},\n",
    "    }\n",
    "    if x['year'] == 2017 and x['customer_email'] in back_cust_list:\n",
    "        return 'back'\n",
    "    elif x['customer_email'] in cust_list['new'][x['year']]:\n",
    "        return 'new'\n",
    "    else:\n",
    "        return 'old'\n",
    "\n",
    "back_cust_list = (cus_list_2015 & cus_list_2017) - cus_list_2016\n",
    "df['customer_type'] = df.apply(lambda x: check_new_customer(x), axis=1)"
   ]
  },
  {
   "cell_type": "code",
   "execution_count": 35,
   "id": "9adf6a5e",
   "metadata": {},
   "outputs": [],
   "source": [
    "revenue_sum = pd.pivot_table(df, values='net_revenue', index='year', columns='customer_type', aggfunc='sum', fill_value=0)\n",
    "revenue_proportion = pd.crosstab(values=df['net_revenue'], index=df['year'], columns=df['customer_type'], aggfunc='sum', normalize='index')"
   ]
  },
  {
   "cell_type": "code",
   "execution_count": 36,
   "id": "55b782f9",
   "metadata": {},
   "outputs": [
    {
     "data": {
      "image/png": "[encoded data removed]",
      "text/plain": [
       "<Figure size 1152x360 with 2 Axes>"
      ]
     },
     "metadata": {
      "needs_background": "light"
     },
     "output_type": "display_data"
    }
   ],
   "source": [
    "@ticker.FuncFormatter\n",
    "def million_formatter(x, pos):\n",
    "    return \"%.1f M\" % (x/1E6)\n",
    "\n",
    "f, axes = plt.subplots(1, 2, figsize=(16,5))\n",
    "ax1 = revenue_sum.plot(kind='bar', \n",
    "                stacked=True, \n",
    "                colormap='tab20c',\n",
    "                ax=axes[0],\n",
    "                legend=False,\n",
    "                )\n",
    "\n",
    "\n",
    "for bars in ax1.containers:\n",
    "    bars_value = [million_formatter(v, 0) for v in bars.datavalues]\n",
    "    ax1.bar_label(container=bars, labels=bars_value)\n",
    "\n",
    "ax2 = revenue_proportion.plot(kind='bar', \n",
    "                    stacked=True, \n",
    "                    colormap='tab20c',\n",
    "                    ax=axes[1]\n",
    "                    )\n",
    "\n",
    "for n, x in enumerate([*revenue_proportion.index.values]):\n",
    "    for (proportion, y_loc) in zip(revenue_proportion.loc[x],\n",
    "                                   revenue_proportion.loc[x].cumsum()):\n",
    "        \n",
    "        if proportion == 0:\n",
    "            continue\n",
    "        plt.text(x=n - 0.13,\n",
    "                 y=(y_loc - proportion) + (proportion / 2),\n",
    "                 s=f'{np.round(proportion * 100, 1)}%', \n",
    "                 color=\"black\",\n",
    "                 fontsize=12,\n",
    "                 fontweight=\"bold\")\n",
    "\n",
    "# format\n",
    "ax1.yaxis.set_major_formatter(million_formatter)\n",
    "ax1.tick_params(axis='x', rotation=0)\n",
    "ax2.tick_params(axis='x', rotation=0)\n",
    "ax2.set_ylim([0, 1])\n",
    "\n",
    "plt.legend(loc=\"upper left\", ncol=2)\n",
    "plt.ylabel(\"Proportion\")\n",
    "plt.xticks(rotation=0)\n",
    "plt.legend(bbox_to_anchor=(1, 1), loc='upper left', ncol=1)\n",
    "plt.tight_layout()\n",
    "plt.show()"
   ]
  },
  {
   "cell_type": "code",
   "execution_count": 37,
   "id": "02b421b7",
   "metadata": {},
   "outputs": [
    {
     "data": {
      "image/png": "[encoded data removed]",
      "text/plain": [
       "<Figure size 720x432 with 1 Axes>"
      ]
     },
     "metadata": {
      "needs_background": "light"
     },
     "output_type": "display_data"
    }
   ],
   "source": [
    "ax = plt.subplots(figsize = (10, 6))\n",
    "ax = sns.boxplot(x='year', y='net_revenue', hue='customer_type', data=df, order = sorted(df['year'].unique()))\n",
    "sns.despine()\n",
    "plt.legend(bbox_to_anchor=(1, 1), loc='upper left', ncol=1)\n",
    "plt.tight_layout()\n",
    "plt.show()"
   ]
  }
 ],
 "metadata": {
  "kernelspec": {
   "display_name": "Python 3 (ipykernel)",
   "language": "python",
   "name": "python3"
  },
  "language_info": {
   "codemirror_mode": {
    "name": "ipython",
    "version": 3
   },
   "file_extension": ".py",
   "mimetype": "text/x-python",
   "name": "python",
   "nbconvert_exporter": "python",
   "pygments_lexer": "ipython3",
   "version": "3.8.12"
  }
 },
 "nbformat": 4,
 "nbformat_minor": 5
}
